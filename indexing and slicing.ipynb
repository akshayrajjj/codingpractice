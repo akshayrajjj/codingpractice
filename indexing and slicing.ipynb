{
 "cells": [
  {
   "cell_type": "code",
   "execution_count": 3,
   "id": "c8c99c85",
   "metadata": {},
   "outputs": [],
   "source": [
    "mystring = \"abcdefghi\""
   ]
  },
  {
   "cell_type": "code",
   "execution_count": 4,
   "id": "fac56fca",
   "metadata": {},
   "outputs": [
    {
     "data": {
      "text/plain": [
       "'abcdefghi'"
      ]
     },
     "execution_count": 4,
     "metadata": {},
     "output_type": "execute_result"
    }
   ],
   "source": [
    "mystring"
   ]
  },
  {
   "cell_type": "code",
   "execution_count": 5,
   "id": "64525c17",
   "metadata": {},
   "outputs": [
    {
     "data": {
      "text/plain": [
       "'a'"
      ]
     },
     "execution_count": 5,
     "metadata": {},
     "output_type": "execute_result"
    }
   ],
   "source": [
    "mystring[0]"
   ]
  },
  {
   "cell_type": "code",
   "execution_count": 6,
   "id": "37b1737c",
   "metadata": {},
   "outputs": [
    {
     "data": {
      "text/plain": [
       "'g'"
      ]
     },
     "execution_count": 6,
     "metadata": {},
     "output_type": "execute_result"
    }
   ],
   "source": [
    "mystring[6]"
   ]
  },
  {
   "cell_type": "code",
   "execution_count": 7,
   "id": "ca1b3799",
   "metadata": {},
   "outputs": [
    {
     "data": {
      "text/plain": [
       "'cdef'"
      ]
     },
     "execution_count": 7,
     "metadata": {},
     "output_type": "execute_result"
    }
   ],
   "source": [
    "mystring[2:6]"
   ]
  },
  {
   "cell_type": "code",
   "execution_count": 8,
   "id": "5cedaf4e",
   "metadata": {},
   "outputs": [
    {
     "data": {
      "text/plain": [
       "'abcdef'"
      ]
     },
     "execution_count": 8,
     "metadata": {},
     "output_type": "execute_result"
    }
   ],
   "source": [
    "mystring[:6]"
   ]
  },
  {
   "cell_type": "code",
   "execution_count": 28,
   "id": "9e790c8a",
   "metadata": {},
   "outputs": [
    {
     "data": {
      "text/plain": [
       "'ihgfedcba'"
      ]
     },
     "execution_count": 28,
     "metadata": {},
     "output_type": "execute_result"
    }
   ],
   "source": [
    "mystring[::]"
   ]
  },
  {
   "cell_type": "code",
   "execution_count": 29,
   "id": "4e608b6b",
   "metadata": {},
   "outputs": [],
   "source": [
    "name=\"nam\""
   ]
  },
  {
   "cell_type": "code",
   "execution_count": 30,
   "id": "4e574aa0",
   "metadata": {},
   "outputs": [
    {
     "data": {
      "text/plain": [
       "'nam'"
      ]
     },
     "execution_count": 30,
     "metadata": {},
     "output_type": "execute_result"
    }
   ],
   "source": [
    "name"
   ]
  },
  {
   "cell_type": "code",
   "execution_count": 34,
   "id": "16e0bc4c",
   "metadata": {},
   "outputs": [],
   "source": [
    "last_letters = name[1:]"
   ]
  },
  {
   "cell_type": "code",
   "execution_count": 36,
   "id": "a451bcfb",
   "metadata": {},
   "outputs": [
    {
     "data": {
      "text/plain": [
       "'am'"
      ]
     },
     "execution_count": 36,
     "metadata": {},
     "output_type": "execute_result"
    }
   ],
   "source": [
    "last_letters"
   ]
  },
  {
   "cell_type": "code",
   "execution_count": 37,
   "id": "4da96234",
   "metadata": {},
   "outputs": [
    {
     "data": {
      "text/plain": [
       "'Pam'"
      ]
     },
     "execution_count": 37,
     "metadata": {},
     "output_type": "execute_result"
    }
   ],
   "source": [
    "'P'+last_letters"
   ]
  },
  {
   "cell_type": "code",
   "execution_count": 38,
   "id": "b14b4552",
   "metadata": {},
   "outputs": [],
   "source": [
    "name='sam'"
   ]
  },
  {
   "cell_type": "code",
   "execution_count": 39,
   "id": "8f561934",
   "metadata": {},
   "outputs": [
    {
     "data": {
      "text/plain": [
       "'sam'"
      ]
     },
     "execution_count": 39,
     "metadata": {},
     "output_type": "execute_result"
    }
   ],
   "source": [
    "name"
   ]
  },
  {
   "cell_type": "code",
   "execution_count": 40,
   "id": "cb2b00b7",
   "metadata": {},
   "outputs": [],
   "source": [
    "last_name = name[1:]"
   ]
  },
  {
   "cell_type": "code",
   "execution_count": 42,
   "id": "3fcb22fe",
   "metadata": {},
   "outputs": [
    {
     "data": {
      "text/plain": [
       "'am'"
      ]
     },
     "execution_count": 42,
     "metadata": {},
     "output_type": "execute_result"
    }
   ],
   "source": [
    "last_name"
   ]
  },
  {
   "cell_type": "code",
   "execution_count": 43,
   "id": "375485f9",
   "metadata": {},
   "outputs": [
    {
     "data": {
      "text/plain": [
       "'Jam'"
      ]
     },
     "execution_count": 43,
     "metadata": {},
     "output_type": "execute_result"
    }
   ],
   "source": [
    "'J'+last_name"
   ]
  },
  {
   "cell_type": "code",
   "execution_count": 44,
   "id": "167920f1",
   "metadata": {},
   "outputs": [],
   "source": [
    "x= 'hello world'"
   ]
  },
  {
   "cell_type": "code",
   "execution_count": 50,
   "id": "9d166f89",
   "metadata": {},
   "outputs": [
    {
     "data": {
      "text/plain": [
       "'hello world it feels greatit feels great'"
      ]
     },
     "execution_count": 50,
     "metadata": {},
     "output_type": "execute_result"
    }
   ],
   "source": [
    "x+ \"it feels great\""
   ]
  },
  {
   "cell_type": "code",
   "execution_count": 51,
   "id": "102a3e75",
   "metadata": {},
   "outputs": [],
   "source": [
    "x= x +\" it feels great\""
   ]
  },
  {
   "cell_type": "code",
   "execution_count": 52,
   "id": "a47c500f",
   "metadata": {},
   "outputs": [
    {
     "data": {
      "text/plain": [
       "'hello world it feels great it feels greathello world it feels great it feels greathello world it feels great it feels greathello world it feels great it feels greathello world it feels great it feels greathello world it feels great it feels greathello world it feels great it feels greathello world it feels great it feels greathello world it feels great it feels greathello world it feels great it feels great'"
      ]
     },
     "execution_count": 52,
     "metadata": {},
     "output_type": "execute_result"
    }
   ],
   "source": [
    "x*10"
   ]
  },
  {
   "cell_type": "code",
   "execution_count": 53,
   "id": "6cca5022",
   "metadata": {},
   "outputs": [],
   "source": [
    "letter='z'"
   ]
  },
  {
   "cell_type": "code",
   "execution_count": 55,
   "id": "f80da682",
   "metadata": {},
   "outputs": [
    {
     "data": {
      "text/plain": [
       "'z'"
      ]
     },
     "execution_count": 55,
     "metadata": {},
     "output_type": "execute_result"
    }
   ],
   "source": [
    "letter"
   ]
  },
  {
   "cell_type": "code",
   "execution_count": 56,
   "id": "f9734b08",
   "metadata": {},
   "outputs": [
    {
     "data": {
      "text/plain": [
       "'zzzzzzzzzz'"
      ]
     },
     "execution_count": 56,
     "metadata": {},
     "output_type": "execute_result"
    }
   ],
   "source": [
    "letter*10"
   ]
  },
  {
   "cell_type": "code",
   "execution_count": 58,
   "id": "94f4c3a2",
   "metadata": {},
   "outputs": [],
   "source": [
    "x ='hello world'"
   ]
  },
  {
   "cell_type": "code",
   "execution_count": 59,
   "id": "c9de5bef",
   "metadata": {},
   "outputs": [
    {
     "data": {
      "text/plain": [
       "'hello world'"
      ]
     },
     "execution_count": 59,
     "metadata": {},
     "output_type": "execute_result"
    }
   ],
   "source": [
    "x"
   ]
  },
  {
   "cell_type": "code",
   "execution_count": 60,
   "id": "dd5f038e",
   "metadata": {},
   "outputs": [
    {
     "data": {
      "text/plain": [
       "'HELLO WORLD'"
      ]
     },
     "execution_count": 60,
     "metadata": {},
     "output_type": "execute_result"
    }
   ],
   "source": [
    "x.upper()"
   ]
  },
  {
   "cell_type": "code",
   "execution_count": 61,
   "id": "962deade",
   "metadata": {},
   "outputs": [
    {
     "data": {
      "text/plain": [
       "'hello world'"
      ]
     },
     "execution_count": 61,
     "metadata": {},
     "output_type": "execute_result"
    }
   ],
   "source": [
    "x.lower()"
   ]
  },
  {
   "cell_type": "code",
   "execution_count": 64,
   "id": "84ace2b3",
   "metadata": {},
   "outputs": [
    {
     "data": {
      "text/plain": [
       "['hello', 'world']"
      ]
     },
     "execution_count": 64,
     "metadata": {},
     "output_type": "execute_result"
    }
   ],
   "source": [
    "x.split()"
   ]
  },
  {
   "cell_type": "code",
   "execution_count": 65,
   "id": "f32d91ba",
   "metadata": {},
   "outputs": [],
   "source": [
    "x = 'this is a good way to start a day'"
   ]
  },
  {
   "cell_type": "code",
   "execution_count": 66,
   "id": "1070f3ad",
   "metadata": {},
   "outputs": [
    {
     "data": {
      "text/plain": [
       "'this is a good way to start a day'"
      ]
     },
     "execution_count": 66,
     "metadata": {},
     "output_type": "execute_result"
    }
   ],
   "source": [
    "x"
   ]
  },
  {
   "cell_type": "code",
   "execution_count": 67,
   "id": "82a120cb",
   "metadata": {},
   "outputs": [
    {
     "data": {
      "text/plain": [
       "['this', 'is', 'a', 'good', 'way', 'to', 'start', 'a', 'day']"
      ]
     },
     "execution_count": 67,
     "metadata": {},
     "output_type": "execute_result"
    }
   ],
   "source": [
    "x.split()"
   ]
  },
  {
   "cell_type": "code",
   "execution_count": 69,
   "id": "0a976d04",
   "metadata": {},
   "outputs": [
    {
     "data": {
      "text/plain": [
       "['this is ', ' good w', 'y to st', 'rt ', ' d', 'y']"
      ]
     },
     "execution_count": 69,
     "metadata": {},
     "output_type": "execute_result"
    }
   ],
   "source": [
    "x.split('a')"
   ]
  },
  {
   "cell_type": "code",
   "execution_count": 70,
   "id": "a94fdc46",
   "metadata": {},
   "outputs": [],
   "source": [
    "my_name = 'akki'"
   ]
  },
  {
   "cell_type": "code",
   "execution_count": 71,
   "id": "1c5acb04",
   "metadata": {},
   "outputs": [
    {
     "data": {
      "text/plain": [
       "'akki'"
      ]
     },
     "execution_count": 71,
     "metadata": {},
     "output_type": "execute_result"
    }
   ],
   "source": [
    "my_name"
   ]
  },
  {
   "cell_type": "code",
   "execution_count": 73,
   "id": "5b5141c4",
   "metadata": {},
   "outputs": [
    {
     "name": "stdout",
     "output_type": "stream",
     "text": [
      "this is a good way to start a day with coffee\n"
     ]
    }
   ],
   "source": [
    "print('this is a good way to start a day {}'.format('with coffee'))"
   ]
  },
  {
   "cell_type": "code",
   "execution_count": 76,
   "id": "689a4430",
   "metadata": {},
   "outputs": [
    {
     "name": "stdout",
     "output_type": "stream",
     "text": [
      "the sun sun sun sun sun empire\n"
     ]
    }
   ],
   "source": [
    "print('the {0} {0} {0} {0} {0} empire'.format('sun','never', 'sleeps', 'on' ,'british'))"
   ]
  },
  {
   "cell_type": "code",
   "execution_count": null,
   "id": "7e18efbb",
   "metadata": {},
   "outputs": [],
   "source": []
  }
 ],
 "metadata": {
  "kernelspec": {
   "display_name": "Python 3 (ipykernel)",
   "language": "python",
   "name": "python3"
  },
  "language_info": {
   "codemirror_mode": {
    "name": "ipython",
    "version": 3
   },
   "file_extension": ".py",
   "mimetype": "text/x-python",
   "name": "python",
   "nbconvert_exporter": "python",
   "pygments_lexer": "ipython3",
   "version": "3.9.12"
  }
 },
 "nbformat": 4,
 "nbformat_minor": 5
}
